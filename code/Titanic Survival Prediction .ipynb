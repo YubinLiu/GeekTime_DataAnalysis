{
 "cells": [
  {
   "cell_type": "markdown",
   "metadata": {},
   "source": [
    "## Titanic 乘客生存预测（决策树）\n",
    "\n",
    "### 训练和测试数据见 data 文件夹中的 Titanic_train.csv 和 Titanic_test.csv\n",
    "\n",
    "### 字段\n",
    "* PassengerId 乘客编号\n",
    "* Survived 是否幸存\n",
    "* Pclass 船票等级\n",
    "* Name 乘客姓名\n",
    "* Sex 乘客性别\n",
    "* Age 乘客年龄\n",
    "* SibSp 亲戚数量（兄妹、配偶数）\n",
    "* Parch 亲戚数量（父母、子女数）\n",
    "* Ticket 船票号码\n",
    "* Fare 船票价格\n",
    "* Cabin 船舱\n",
    "* Embarked 登陆港口\n",
    "\n",
    "### 流程\n",
    "1. **准备阶段**：数据探索 -> 数据清洗 -> 特征选择。\n",
    "2. **分类阶段**：决策树模型 -> 模型评估&预测 -> 决策树可视化"
   ]
  },
  {
   "cell_type": "markdown",
   "metadata": {},
   "source": [
    "### 模块1：数据探索\n",
    "* info()：了解数据表基本情况，行数、列数、每列的数据类型、数据完整度 等；\n",
    "* describe()：了解数据表的统计情况，总数、平均值、标准差、最大/最小值 等；\n",
    "* describe(include=[ 'O' ])：查看字符串类型（非数字）的整体情况；\n",
    "* head()：查看前几行的数据（默认为前 5 行）\n",
    "* tail()：查看后几行的数据（默认为后 5 行）"
   ]
  },
  {
   "cell_type": "code",
   "execution_count": 1,
   "metadata": {
    "scrolled": true
   },
   "outputs": [
    {
     "name": "stdout",
     "output_type": "stream",
     "text": [
      "<class 'pandas.core.frame.DataFrame'>\n",
      "RangeIndex: 891 entries, 0 to 890\n",
      "Data columns (total 12 columns):\n",
      "PassengerId    891 non-null int64\n",
      "Survived       891 non-null int64\n",
      "Pclass         891 non-null int64\n",
      "Name           891 non-null object\n",
      "Sex            891 non-null object\n",
      "Age            714 non-null float64\n",
      "SibSp          891 non-null int64\n",
      "Parch          891 non-null int64\n",
      "Ticket         891 non-null object\n",
      "Fare           891 non-null float64\n",
      "Cabin          204 non-null object\n",
      "Embarked       889 non-null object\n",
      "dtypes: float64(2), int64(5), object(5)\n",
      "memory usage: 83.6+ KB\n",
      "None\n",
      "------------------------------\n",
      "       PassengerId    Survived      Pclass         Age       SibSp       Parch        Fare\n",
      "count   891.000000  891.000000  891.000000  714.000000  891.000000  891.000000  891.000000\n",
      "mean    446.000000    0.383838    2.308642   29.699118    0.523008    0.381594   32.204208\n",
      "std     257.353842    0.486592    0.836071   14.526497    1.102743    0.806057   49.693429\n",
      "min       1.000000    0.000000    1.000000    0.420000    0.000000    0.000000    0.000000\n",
      "25%     223.500000    0.000000    2.000000   20.125000    0.000000    0.000000    7.910400\n",
      "50%     446.000000    0.000000    3.000000   28.000000    0.000000    0.000000   14.454200\n",
      "75%     668.500000    1.000000    3.000000   38.000000    1.000000    0.000000   31.000000\n",
      "max     891.000000    1.000000    3.000000   80.000000    8.000000    6.000000  512.329200\n",
      "------------------------------\n",
      "                                 Name   Sex    Ticket Cabin Embarked\n",
      "count                             891   891       891   204      889\n",
      "unique                            891     2       681   147        3\n",
      "top     O'Leary, Miss. Hanora \"Norah\"  male  CA. 2343    G6        S\n",
      "freq                                1   577         7     4      644\n",
      "------------------------------\n",
      "   PassengerId  Survived  Pclass                                               Name     Sex   Age  SibSp  Parch            Ticket     Fare Cabin Embarked\n",
      "0            1         0       3                            Braund, Mr. Owen Harris    male  22.0      1      0         A/5 21171   7.2500   NaN        S\n",
      "1            2         1       1  Cumings, Mrs. John Bradley (Florence Briggs Th...  female  38.0      1      0          PC 17599  71.2833   C85        C\n",
      "2            3         1       3                             Heikkinen, Miss. Laina  female  26.0      0      0  STON/O2. 3101282   7.9250   NaN        S\n",
      "3            4         1       1       Futrelle, Mrs. Jacques Heath (Lily May Peel)  female  35.0      1      0            113803  53.1000  C123        S\n",
      "4            5         0       3                           Allen, Mr. William Henry    male  35.0      0      0            373450   8.0500   NaN        S\n",
      "------------------------------\n",
      "     PassengerId  Survived  Pclass                                      Name     Sex   Age  SibSp  Parch      Ticket   Fare Cabin Embarked\n",
      "886          887         0       2                     Montvila, Rev. Juozas    male  27.0      0      0      211536  13.00   NaN        S\n",
      "887          888         1       1              Graham, Miss. Margaret Edith  female  19.0      0      0      112053  30.00   B42        S\n",
      "888          889         0       3  Johnston, Miss. Catherine Helen \"Carrie\"  female   NaN      1      2  W./C. 6607  23.45   NaN        S\n",
      "889          890         1       1                     Behr, Mr. Karl Howell    male  26.0      0      0      111369  30.00  C148        C\n",
      "890          891         0       3                       Dooley, Mr. Patrick    male  32.0      0      0      370376   7.75   NaN        Q\n",
      "------------------------------\n"
     ]
    }
   ],
   "source": [
    "import pandas as pd\n",
    "\n",
    "# 数据加载\n",
    "train_data = pd.read_csv('./data/Titanic_train.csv')\n",
    "test_data = pd.read_csv('./data/Titanic_test.csv')\n",
    "\n",
    "# 数据探索\n",
    "print(train_data.info())\n",
    "print(\"-\"*30)\n",
    "\n",
    "print(train_data.describe())\n",
    "print(\"-\"*30)\n",
    "\n",
    "print(train_data.describe(include=['O']))\n",
    "print(\"-\"*30)\n",
    "\n",
    "print(train_data.head())\n",
    "print(\"-\"*30)\n",
    "\n",
    "print(train_data.tail())\n",
    "print(\"-\"*30)"
   ]
  },
  {
   "cell_type": "markdown",
   "metadata": {},
   "source": [
    "### 模块2：数据清洗\n",
    "**Age、Fare、Cabin、Embarked 均有缺失值**\n",
    "1. Age：年龄，数值型，用平均值补齐\n",
    "2. Fare：船票价格，数值型，用平均值补齐（测试集中有缺失值）\n",
    "3. Cabin：船舱，缺失值过多，无法补齐\n",
    "4. Embarked：登陆港口，少量缺失值，有 3 个登陆港口，用占比最多的填充缺失值"
   ]
  },
  {
   "cell_type": "code",
   "execution_count": 2,
   "metadata": {},
   "outputs": [],
   "source": [
    "# 使用平均年龄填充年龄中的缺失值\n",
    "train_data[\"Age\"].fillna(train_data[\"Age\"].mean(), inplace=True)\n",
    "test_data[\"Age\"].fillna(test_data[\"Age\"].mean(), inplace=True)\n",
    "\n",
    "# 使用票价的均值填充票价中的缺失值\n",
    "train_data[\"Fare\"].fillna(train_data[\"Fare\"].mean(), inplace=True)\n",
    "test_data[\"Fare\"].fillna(test_data[\"Fare\"].mean(), inplace=True)"
   ]
  },
  {
   "cell_type": "code",
   "execution_count": 3,
   "metadata": {},
   "outputs": [
    {
     "name": "stdout",
     "output_type": "stream",
     "text": [
      "S    644\n",
      "C    168\n",
      "Q     77\n",
      "Name: Embarked, dtype: int64\n"
     ]
    }
   ],
   "source": [
    "print(train_data[\"Embarked\"].value_counts())"
   ]
  },
  {
   "cell_type": "code",
   "execution_count": 4,
   "metadata": {},
   "outputs": [],
   "source": [
    "# 使用登陆最多的港口来填充缺失值\n",
    "train_data[\"Embarked\"].fillna(\"S\", inplace=True)\n",
    "test_data[\"Embarked\"].fillna(\"S\", inplace=True)"
   ]
  },
  {
   "cell_type": "markdown",
   "metadata": {},
   "source": [
    "### 模块3：特征选择\n",
    "* PassengerId、Name 对分类无特别作用，放弃\n",
    "* Cabin 缺失值太多，放弃\n",
    "* Ticket 船票号码，杂乱无规律，无意义，放弃\n",
    "* Pclass、Sex、Age、SibSp、Parch、Fare：乘客的船票等级、性别、年龄、亲戚数量、船票价格，选为特征"
   ]
  },
  {
   "cell_type": "code",
   "execution_count": 13,
   "metadata": {},
   "outputs": [],
   "source": [
    "# 特征选择\n",
    "features = [\"Pclass\", \"Sex\", \"Age\", \"SibSp\", \"Parch\", \"Fare\", \"Embarked\"]\n",
    "\n",
    "train_features = train_data[features]\n",
    "train_labels = train_data[\"Survived\"]\n",
    "\n",
    "test_features = test_data[features]"
   ]
  },
  {
   "cell_type": "markdown",
   "metadata": {},
   "source": [
    "***将特征值中的字符串转成数值类型，便于后续计算***\n",
    "* Sex 字段：Female 和 Male 可用数值 0 和 1 表示\n",
    "* Embarked 字段：S C Q 三种可能，同理转换为数值\n",
    "* 使用 sklearn 的 DictVertorizer 类\n",
    "* fit_transform()：将特征向量转化为特征值矩阵"
   ]
  },
  {
   "cell_type": "code",
   "execution_count": 14,
   "metadata": {},
   "outputs": [],
   "source": [
    "from sklearn.feature_extraction import DictVectorizer\n",
    "\n",
    "dvec = DictVectorizer(sparse=False)\n",
    "train_features = dvec.fit_transform(train_features.to_dict(orient=\"records\"))"
   ]
  },
  {
   "cell_type": "code",
   "execution_count": 15,
   "metadata": {},
   "outputs": [
    {
     "name": "stdout",
     "output_type": "stream",
     "text": [
      "['Age', 'Embarked=C', 'Embarked=Q', 'Embarked=S', 'Fare', 'Parch', 'Pclass', 'Sex=female', 'Sex=male', 'SibSp']\n"
     ]
    }
   ],
   "source": [
    "print(dvec.feature_names_)"
   ]
  },
  {
   "cell_type": "markdown",
   "metadata": {},
   "source": [
    "***train_features 特征矩阵包括 10 个特征值（列），891 个样本（行），即 891 * 10 的特征矩阵***"
   ]
  },
  {
   "cell_type": "markdown",
   "metadata": {},
   "source": [
    "### 模块4：决策树模型\n",
    "**ID3算法，即指定 DecisionTreeClassifier 的 criterion=\"entropy\"**"
   ]
  },
  {
   "cell_type": "code",
   "execution_count": 16,
   "metadata": {},
   "outputs": [
    {
     "data": {
      "text/plain": [
       "DecisionTreeClassifier(class_weight=None, criterion='entropy', max_depth=None,\n",
       "            max_features=None, max_leaf_nodes=None,\n",
       "            min_impurity_decrease=0.0, min_impurity_split=None,\n",
       "            min_samples_leaf=1, min_samples_split=2,\n",
       "            min_weight_fraction_leaf=0.0, presort=False, random_state=None,\n",
       "            splitter='best')"
      ]
     },
     "execution_count": 16,
     "metadata": {},
     "output_type": "execute_result"
    }
   ],
   "source": [
    "from sklearn.tree import DecisionTreeClassifier\n",
    "\n",
    "# 构造 ID3 决策树\n",
    "clf = DecisionTreeClassifier(criterion=\"entropy\")\n",
    "# 决策树训练\n",
    "clf.fit(train_features, train_labels)"
   ]
  },
  {
   "cell_type": "markdown",
   "metadata": {},
   "source": [
    "### 模块5：模型预测&评估\n",
    "**得到测试集的特征矩阵，用训练好的决策树进行预测，得到预测结果**"
   ]
  },
  {
   "cell_type": "code",
   "execution_count": 17,
   "metadata": {},
   "outputs": [],
   "source": [
    "test_features = dvec.transform(test_features.to_dict(orient=\"records\"))\n",
    "\n",
    "# 决策树预测\n",
    "pred_labels = clf.predict(test_features)"
   ]
  },
  {
   "cell_type": "markdown",
   "metadata": {},
   "source": [
    "***因无测试集实际结果，所以需采用 K 折交叉验证的方式***\n",
    "1. 将数据集平均分割成 k 个等份\n",
    "2. 使用 1 份作为测试数据，其余作为训练数据\n",
    "3. 计算测试准确率\n",
    "4. 使用不同的测试集，重复 2 3 步骤\n",
    "5. sklearn 的 model_selection 中的 cross_val_score()，cv 指定将原始数据划分为多少份，一般取 10"
   ]
  },
  {
   "cell_type": "code",
   "execution_count": 18,
   "metadata": {},
   "outputs": [
    {
     "name": "stdout",
     "output_type": "stream",
     "text": [
      "cross_val_score 准确率为 0.7824\n"
     ]
    }
   ],
   "source": [
    "import numpy as np\n",
    "from sklearn.model_selection import cross_val_score\n",
    "\n",
    "# 使用 k 折交叉验证，统计决策树准确率\n",
    "print(\"cross_val_score 准确率为 %.4lf\" % np.mean(cross_val_score(clf, train_features, train_labels, cv=10)))"
   ]
  },
  {
   "cell_type": "markdown",
   "metadata": {},
   "source": [
    "### 模块6：决策树可视化\n",
    "**通过 Graphviz 可视化**"
   ]
  },
  {
   "cell_type": "code",
   "execution_count": 20,
   "metadata": {},
   "outputs": [
    {
     "data": {
      "text/plain": [
       "'Source.gv.pdf'"
      ]
     },
     "execution_count": 20,
     "metadata": {},
     "output_type": "execute_result"
    }
   ],
   "source": [
    "from sklearn import tree\n",
    "import graphviz\n",
    "\n",
    "dot_data = tree.export_graphviz(clf, out_file=None)\n",
    "graph = graphviz.Source(dot_data)\n",
    "graph.view()"
   ]
  }
 ],
 "metadata": {
  "kernelspec": {
   "display_name": "Python 3",
   "language": "python",
   "name": "python3"
  },
  "language_info": {
   "codemirror_mode": {
    "name": "ipython",
    "version": 3
   },
   "file_extension": ".py",
   "mimetype": "text/x-python",
   "name": "python",
   "nbconvert_exporter": "python",
   "pygments_lexer": "ipython3",
   "version": "3.7.3"
  },
  "toc": {
   "base_numbering": 1,
   "nav_menu": {},
   "number_sections": true,
   "sideBar": true,
   "skip_h1_title": false,
   "title_cell": "Table of Contents",
   "title_sidebar": "Contents",
   "toc_cell": false,
   "toc_position": {},
   "toc_section_display": true,
   "toc_window_display": false
  }
 },
 "nbformat": 4,
 "nbformat_minor": 2
}
