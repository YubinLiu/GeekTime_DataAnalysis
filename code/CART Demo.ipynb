{
 "cells": [
  {
   "cell_type": "code",
   "execution_count": 2,
   "metadata": {},
   "outputs": [
    {
     "name": "stdout",
     "output_type": "stream",
     "text": [
      "CART 分类树准确率 0.9600\n"
     ]
    },
    {
     "data": {
      "text/plain": [
       "'iris_classification_tree.pdf'"
      ]
     },
     "execution_count": 2,
     "metadata": {},
     "output_type": "execute_result"
    }
   ],
   "source": [
    "# iris 分类举例\n",
    "from sklearn.model_selection import train_test_split\n",
    "from sklearn.metrics import accuracy_score\n",
    "from sklearn.tree import DecisionTreeClassifier\n",
    "from sklearn.datasets import load_iris\n",
    "from sklearn import tree\n",
    "import graphviz\n",
    "\n",
    "# 准备数据集\n",
    "iris = load_iris()\n",
    "\n",
    "# 特征集和分类标识\n",
    "features = iris.data\n",
    "labels = iris.target\n",
    "\n",
    "# 随机抽取 33% 的数据作为测试集，其余为训练集\n",
    "train_features, test_features, train_labels, test_labels = train_test_split(features, labels, test_size=0.33, random_state=0)\n",
    "\n",
    "# 创建 CART 分类树\n",
    "clf = DecisionTreeClassifier(criterion=\"gini\")\n",
    "\n",
    "# 拟合构造 CART 分类树\n",
    "clf_iris = clf.fit(train_features, train_labels)\n",
    "\n",
    "# 用 CART 分类树做预测\n",
    "test_predict = clf_iris.predict(test_features)\n",
    "\n",
    "# 预测结果与测试集结果比较\n",
    "score = accuracy_score(test_labels, test_predict)\n",
    "print(\"CART 分类树准确率 %.4f\" % score)\n",
    "\n",
    "# 绘图\n",
    "dot_data = tree.export_graphviz(clf_iris, out_file=None) \n",
    "graph = graphviz.Source(dot_data) \n",
    "graph.render(\"iris_classification_tree\")"
   ]
  },
  {
   "cell_type": "code",
   "execution_count": 14,
   "metadata": {},
   "outputs": [
    {
     "name": "stdout",
     "output_type": "stream",
     "text": [
      "['CRIM' 'ZN' 'INDUS' 'CHAS' 'NOX' 'RM' 'AGE' 'DIS' 'RAD' 'TAX' 'PTRATIO'\n",
      " 'B' 'LSTAT']\n",
      "回归二乘偏差均值:  13.717844311377247\n",
      "回归绝对值偏差均值:  2.61437125748503\n"
     ]
    },
    {
     "data": {
      "text/plain": [
       "'boston_regression_tree.pdf'"
      ]
     },
     "execution_count": 14,
     "metadata": {},
     "output_type": "execute_result"
    }
   ],
   "source": [
    "# 波士顿房价 回归举例\n",
    "from sklearn.model_selection import train_test_split\n",
    "from sklearn.datasets import load_boston\n",
    "from sklearn.metrics import r2_score, mean_absolute_error, mean_squared_error\n",
    "from sklearn.tree import DecisionTreeRegressor\n",
    "\n",
    "# 准备数据集\n",
    "boston = load_boston()\n",
    "\n",
    "# 探索数据\n",
    "print(boston.feature_names)\n",
    "\n",
    "# 获取特征集和房价\n",
    "features = boston.data\n",
    "prices = boston.target\n",
    "\n",
    "# 随机抽取 33% 的数据作为测试集，其余为训练集\n",
    "train_features, test_features, train_price, test_price = train_test_split(features, prices, test_size=0.33)\n",
    "\n",
    "# 创建 CART 回归树\n",
    "dtr = DecisionTreeRegressor()\n",
    "\n",
    "# 拟合构造 CART 回归树\n",
    "dtr_boston = dtr.fit(train_features, train_price)\n",
    "\n",
    "# 预测测试集中的房价\n",
    "predict_price = dtr_boston.predict(test_features)\n",
    "\n",
    "# 测试集的结果评价\n",
    "print(\"回归二乘偏差均值: \", mean_squared_error(test_price, predict_price))\n",
    "print(\"回归绝对值偏差均值: \", mean_absolute_error(test_price, predict_price))\n",
    "\n",
    "# 绘图\n",
    "dot_data = tree.export_graphviz(dtr_boston, out_file=None) \n",
    "graph = graphviz.Source(dot_data) \n",
    "graph.render(\"boston_regression_tree\")"
   ]
  },
  {
   "cell_type": "code",
   "execution_count": 16,
   "metadata": {},
   "outputs": [
    {
     "name": "stdout",
     "output_type": "stream",
     "text": [
      "CART 分类树准确率 0.8636\n"
     ]
    },
    {
     "data": {
      "text/plain": [
       "'digits_classification_tree.pdf'"
      ]
     },
     "execution_count": 16,
     "metadata": {},
     "output_type": "execute_result"
    }
   ],
   "source": [
    "# 练习：手写数字 分类\n",
    "from sklearn.model_selection import train_test_split\n",
    "from sklearn.metrics import accuracy_score\n",
    "from sklearn.tree import DecisionTreeClassifier\n",
    "from sklearn.datasets import load_digits\n",
    "from sklearn import tree\n",
    "import graphviz\n",
    "\n",
    "# 准备数据集\n",
    "digits = load_digits()\n",
    "\n",
    "# 特征集和分类标识\n",
    "features = digits.data\n",
    "labels = digits.target\n",
    "\n",
    "# 随机抽取 33% 的数据作为测试集，其余为训练集\n",
    "train_features, test_features, train_labels, test_labels = train_test_split(features, labels, test_size=0.33, random_state=0)\n",
    "\n",
    "# 创建 CART 分类树\n",
    "clf = DecisionTreeClassifier(criterion=\"gini\")\n",
    "\n",
    "# 拟合构造 CART 分类树\n",
    "clf_digits = clf.fit(train_features, train_labels)\n",
    "\n",
    "# 用 CART 分类树做预测\n",
    "test_predict = clf_digits.predict(test_features)\n",
    "\n",
    "# 预测结果与测试集结果比较\n",
    "score = accuracy_score(test_labels, test_predict)\n",
    "print(\"CART 分类树准确率 %.4f\" % score)\n",
    "\n",
    "# 绘图\n",
    "dot_data = tree.export_graphviz(clf_digits, out_file=None) \n",
    "graph = graphviz.Source(dot_data) \n",
    "graph.render(\"digits_classification_tree\")"
   ]
  }
 ],
 "metadata": {
  "kernelspec": {
   "display_name": "Python 3",
   "language": "python",
   "name": "python3"
  },
  "language_info": {
   "codemirror_mode": {
    "name": "ipython",
    "version": 3
   },
   "file_extension": ".py",
   "mimetype": "text/x-python",
   "name": "python",
   "nbconvert_exporter": "python",
   "pygments_lexer": "ipython3",
   "version": "3.7.3"
  },
  "toc": {
   "base_numbering": 1,
   "nav_menu": {},
   "number_sections": true,
   "sideBar": true,
   "skip_h1_title": false,
   "title_cell": "Table of Contents",
   "title_sidebar": "Contents",
   "toc_cell": false,
   "toc_position": {},
   "toc_section_display": true,
   "toc_window_display": false
  }
 },
 "nbformat": 4,
 "nbformat_minor": 2
}
